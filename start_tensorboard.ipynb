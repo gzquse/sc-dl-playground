{
 "cells": [
  {
   "cell_type": "markdown",
   "id": "314d73bf-204b-410b-9b58-4db9a461e1c4",
   "metadata": {},
   "source": [
    "# TensorBoard Launcher\n",
    "\n",
    "This notebook allows you to start TensorBoard on Perlmutter and view it in a normal browser tab.\n",
    "\n",
    "The notebook code below assumes you are using the hands-on tutorial path for tensorboard logs.\n",
    "\n",
    "When you run the cells below, TensorBoard will start but will not display here in the notebook. Instead, the final cell which calls `nersc_tensorboard_helper.tb_address()` will display a URL that you can click to open a new tab with TensorBoard."
   ]
  },
  {
   "cell_type": "code",
   "execution_count": 3,
   "id": "97bcd738-b1f5-40ed-acb0-2b2572f741e2",
   "metadata": {
    "tags": []
   },
   "outputs": [
    {
     "name": "stdout",
     "output_type": "stream",
     "text": [
      "The tensorboard extension is already loaded. To reload it, use:\n",
      "  %reload_ext tensorboard\n"
     ]
    }
   ],
   "source": [
    "import os\n",
    "import nersc_tensorboard_helper\n",
    "%load_ext tensorboard\n"
   ]
  },
  {
   "cell_type": "code",
   "execution_count": 4,
   "id": "bf565970",
   "metadata": {
    "tags": []
   },
   "outputs": [],
   "source": [
    "%reload_ext tensorboard"
   ]
  },
  {
   "cell_type": "code",
   "execution_count": 5,
   "id": "2b4a192d-f5a7-4f8a-becb-ae52ed9cc036",
   "metadata": {
    "tags": []
   },
   "outputs": [],
   "source": [
    "log_dir = os.path.expandvars('${SCRATCH}/sc23-dl-tutorial/logs')"
   ]
  },
  {
   "cell_type": "code",
   "execution_count": 6,
   "id": "4dd0750e-7f27-4a66-9fce-4be91ea88835",
   "metadata": {
    "tags": []
   },
   "outputs": [],
   "source": [
    "%%capture\n",
    "%tensorboard --logdir $log_dir --port 0"
   ]
  },
  {
   "cell_type": "code",
   "execution_count": 7,
   "id": "7f4158e2-d17a-40f3-a6e5-961e2615e4c3",
   "metadata": {
    "tags": []
   },
   "outputs": [
    {
     "data": {
      "text/html": [
       "<a href=\"https://jupyter.nersc.gov/user/gzquse/perlmutter-login-node-base/proxy/46519/\">https://jupyter.nersc.gov/user/gzquse/perlmutter-login-node-base/proxy/46519/</a>"
      ],
      "text/plain": [
       "<IPython.core.display.HTML object>"
      ]
     },
     "metadata": {},
     "output_type": "display_data"
    }
   ],
   "source": [
    "nersc_tensorboard_helper.tb_address()"
   ]
  },
  {
   "cell_type": "code",
   "execution_count": null,
   "id": "0ad851ac-485a-436c-a88b-356aa0843641",
   "metadata": {},
   "outputs": [],
   "source": []
  },
  {
   "cell_type": "code",
   "execution_count": null,
   "id": "28752977",
   "metadata": {},
   "outputs": [],
   "source": []
  }
 ],
 "metadata": {
  "kernelspec": {
   "display_name": "tensorflow-2.12.0",
   "language": "python",
   "name": "tensorflow-2.12.0"
  },
  "language_info": {
   "codemirror_mode": {
    "name": "ipython",
    "version": 3
   },
   "file_extension": ".py",
   "mimetype": "text/x-python",
   "name": "python",
   "nbconvert_exporter": "python",
   "pygments_lexer": "ipython3",
   "version": "3.9.19"
  }
 },
 "nbformat": 4,
 "nbformat_minor": 5
}
